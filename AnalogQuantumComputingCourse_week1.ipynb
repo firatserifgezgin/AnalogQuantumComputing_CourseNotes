{
 "cells": [
  {
   "cell_type": "markdown",
   "metadata": {},
   "source": [
    "### A Crash Course on Quantum Simulation\n",
    "\n",
    "#### Week 1. (Approx. 1 hour long)"
   ]
  },
  {
   "cell_type": "markdown",
   "metadata": {},
   "source": [
    "##### What are we doing?"
   ]
  },
  {
   "cell_type": "markdown",
   "metadata": {},
   "source": [
    "- A novel approach for wave mechanics\n",
    "- Simulation of Hamiltonians and quantum simulation\n",
    "- What is quantum physics? what is wave mechanics? Is there a way to distinguish the two?\n",
    "- Hands on experience: Check certain quantum systems by building the analog version yourself!"
   ]
  },
  {
   "cell_type": "markdown",
   "metadata": {},
   "source": [
    "## Introduction to Classical and Quantum Computing"
   ]
  },
  {
   "cell_type": "markdown",
   "metadata": {},
   "source": [
    "### Classical computation: Digital\n",
    "    Analog Level: discrete voltages, transistors, latches-memories, logic-gates\n",
    "    Digital Level: input and desired output, the truth table, logic design, logic-gate implementation \n",
    "    \n",
    "#### 1.1 Bits\n",
    "If we represent the value of a bit as vectors instead of $0$ or $1$, then we can allocate two (orthogonal) vectors in Dirac bra-ket notation (next-week):\n",
    "    $$0 \\to \\mid 0 \\rangle  \\equiv \\begin{pmatrix} 1\\\\ 0 \\end{pmatrix}, \\quad 1  \\to \\mid 0 \\rangle \\equiv \\begin{pmatrix} 0\\\\ 1 \\end{pmatrix}.$$\n",
    "    \n",
    "Beware that we can simply use 0 or 1 instead of this vector notation. It is indeed true.  \n",
    "    \n",
    "The sampled signal $x(t) \\to x[n]$. At each integer value of $n$, it is represented by either of $\\mid 0 \\rangle, \\mid 1 \\rangle$. Beware that each vector has integer elements.\n",
    "\n",
    "We can -on the software level- talk about the logic gate o\n",
    "perations now. Since the inputs are represented by vectors, the logic gates are matrices operating on the vectors.\n",
    "\n",
    "Possible operations on a bit:\n",
    "\n",
    "- NOT gate (reversable): $X = \\begin{pmatrix} 0&1\\\\1 & 0 \\end{pmatrix}$. The input it multiplied by $X$ and reversed, e.g. $X \\mid 0 \\rangle = \\mid 1 \\rangle$ and $X \\mid 1 \\rangle = \\mid 0 \\rangle$.\n",
    "\n",
    "- Identity gate (reversable): $I = \\begin{pmatrix} 1&0\\\\0&1 \\end{pmatrix}$.\n",
    "\n",
    "- 0-set (irreversable): Irrespective of the input, output is $\\mid 0\\rangle$. Represented by $\\begin{pmatrix} 1&1\\\\0&0 \\end{pmatrix}$. \n",
    "\n",
    "- 1-set (irreversable): Irrespective of the input, output is $\\mid 1\\rangle$.  Represented by $\\begin{pmatrix} 0&0\\\\1&1 \\end{pmatrix}$. "
   ]
  },
  {
   "cell_type": "markdown",
   "metadata": {},
   "source": [
    "#### 1.1 2-bits"
   ]
  },
  {
   "cell_type": "markdown",
   "metadata": {},
   "source": [
    "Consider 2 bits, $\\mid 00 \\rangle,\\mid 01 \\rangle,\\mid 10 \\rangle,\\mid 11 \\rangle$. It is normally 2 parallel or series date. Yet, in order to find the connection with quantum computation, let us repsentate them again by the vectors.\n",
    "\n",
    "$$\\mid 00 \\rangle = \\mid 0 \\rangle \\mid 0 \\rangle = \\mid 0 \\rangle \\otimes \\mid 0 \\rangle = \\begin{pmatrix} 1\\\\ 0 \\end{pmatrix} \\otimes \\begin{pmatrix} 1\\\\ 0 \\end{pmatrix} = \\begin{pmatrix} 1\\\\0\\\\0\\\\ 0 \\end{pmatrix},$$\n",
    "\n",
    "$$\\mid 01 \\rangle = \\mid 0 \\rangle \\mid 1 \\rangle = \\mid 0 \\rangle \\otimes \\mid 1 \\rangle = \\begin{pmatrix} 1\\\\ 0 \\end{pmatrix} \\otimes \\begin{pmatrix} 0\\\\ 1 \\end{pmatrix} = \\begin{pmatrix} 0\\\\1\\\\0\\\\ 0 \\end{pmatrix},$$\n",
    "\n",
    "$$\\mid 10 \\rangle = \\mid 1 \\rangle \\mid 0 \\rangle = \\mid 1 \\rangle \\otimes \\mid 0 \\rangle = \\begin{pmatrix} 0\\\\ 1 \\end{pmatrix} \\otimes \\begin{pmatrix} 1\\\\ 0 \\end{pmatrix} = \\begin{pmatrix} 0\\\\0\\\\1\\\\ 0 \\end{pmatrix},$$\n",
    "\n",
    "$$\\mid 11 \\rangle = \\mid 1 \\rangle \\mid 1 \\rangle = \\mid 1 \\rangle \\otimes \\mid 1 \\rangle = \\begin{pmatrix} 0\\\\ 1 \\end{pmatrix} \\otimes \\begin{pmatrix} 0\\\\ 1 \\end{pmatrix} = \\begin{pmatrix} 0\\\\0\\\\0\\\\ 1 \\end{pmatrix}.$$"
   ]
  },
  {
   "cell_type": "markdown",
   "metadata": {},
   "source": [
    "2-bit operations, $f(x): \\mathcal{Z}_2^2 \\to \\mathcal{Z}_2^1$. The input is 2 row vectors with bit values whereas the output is a single bit.\n",
    "    \n",
    "- AND gate (irreversable), $\\wedge$: \n",
    "\n",
    "$$\\mid 0 \\rangle \\wedge \\mid 0 \\rangle=\\mid 0 \\rangle \\wedge \\mid 1 \\rangle=\\mid 1 \\rangle \\wedge \\mid 0 \\rangle = \\mid 0 \\rangle.$$\n",
    "\n",
    "$$\\mid 1 \\rangle \\wedge \\mid 1 \\rangle \\to \\mid 1 \\rangle.$$\n",
    "\n",
    "How to represent them with operations? input is 2-bits, output is 1-bits, therefore, we need a matrix of size $2 \\times 4$.\n",
    "\n",
    "$$\\wedge = \\begin{pmatrix} 1&1&1&0\\\\0&0&0&1 \\end{pmatrix}.$$\n",
    "\n",
    "- OR gate (irreversable), $\\lor$: \n",
    "\n",
    "$$\\lor = \\begin{pmatrix} 1&0&0&0 \\\\ 0&1&1&1\\end{pmatrix}.$$\n",
    "\n",
    "- XOR gate (irreversable), $\\lor$: \n",
    "\n",
    "$$\\lor = \\begin{pmatrix} 1&0&0&0 \\\\ 0&1&1&1\\end{pmatrix}.$$\n",
    "\n",
    "- NAND gate (irreversable): Sequential application of AND and NOT gates.\n",
    "- NOR gate (irreversable): Sequential application of OR and NOT gates."
   ]
  },
  {
   "cell_type": "code",
   "execution_count": 27,
   "metadata": {},
   "outputs": [],
   "source": [
    "import scipy as sc\n",
    "import numpy as np\n",
    "import matplotlib.pyplot as plt\n",
    "\n",
    "%matplotlib inline\n",
    "from mpl_toolkits.mplot3d import Axes3D\n",
    "from matplotlib.pylab import * # for plotting commands\n",
    "import matplotlib.pyplot as plt\n",
    "from IPython.display import Image\n",
    "from mpl_toolkits.mplot3d import axes3d"
   ]
  },
  {
   "cell_type": "markdown",
   "metadata": {},
   "source": [
    "#### 1.1 3+ bits:  \n",
    "$\\mid 000 \\rangle,\\mid 001 \\rangle, ... ,\\mid 110 \\rangle,\\mid 111 \\rangle$.\n",
    "Operations on 3+ bits are describable by 2 + 1 bit logic gates."
   ]
  },
  {
   "cell_type": "markdown",
   "metadata": {},
   "source": [
    "#### 2. Truth Table:\n",
    "To generate the truth tables for logic functions, we use ttg library."
   ]
  },
  {
   "cell_type": "code",
   "execution_count": 28,
   "metadata": {},
   "outputs": [],
   "source": [
    "import ttg"
   ]
  },
  {
   "cell_type": "markdown",
   "metadata": {},
   "source": [
    "For example, let us say, we have 3-inputs ($x,y,z$) and the following function $out = xy + z' = (x \\wedge y)\\lor \\bar{z}$."
   ]
  },
  {
   "cell_type": "code",
   "execution_count": 29,
   "metadata": {},
   "outputs": [
    {
     "name": "stdout",
     "output_type": "stream",
     "text": [
      "+-----+-----+-----+\n",
      "|  x  |  y  |  z  |\n",
      "|-----+-----+-----|\n",
      "|  1  |  1  |  1  |\n",
      "|  1  |  1  |  0  |\n",
      "|  1  |  0  |  1  |\n",
      "|  1  |  0  |  0  |\n",
      "|  0  |  1  |  1  |\n",
      "|  0  |  1  |  0  |\n",
      "|  0  |  0  |  1  |\n",
      "|  0  |  0  |  0  |\n",
      "+-----+-----+-----+\n"
     ]
    }
   ],
   "source": [
    "# inputs\n",
    "print(ttg.Truths(['x', 'y', 'z']))"
   ]
  },
  {
   "cell_type": "code",
   "execution_count": 30,
   "metadata": {},
   "outputs": [
    {
     "name": "stdout",
     "output_type": "stream",
     "text": [
      "+-----+-----+-----+---------------------+\n",
      "|  x  |  y  |  z  |  (x and y) or (~z)  |\n",
      "|-----+-----+-----+---------------------|\n",
      "|  1  |  1  |  1  |          1          |\n",
      "|  1  |  1  |  0  |          1          |\n",
      "|  1  |  0  |  1  |          0          |\n",
      "|  1  |  0  |  0  |          1          |\n",
      "|  0  |  1  |  1  |          0          |\n",
      "|  0  |  1  |  0  |          1          |\n",
      "|  0  |  0  |  1  |          0          |\n",
      "|  0  |  0  |  0  |          1          |\n",
      "+-----+-----+-----+---------------------+\n"
     ]
    }
   ],
   "source": [
    "print(ttg.Truths(['x', 'y', 'z'], ['(x and y) or (~z)']))"
   ]
  },
  {
   "cell_type": "markdown",
   "metadata": {},
   "source": [
    "Logic Circuit implementation:\n",
    "\n",
    "- Given a truth table:\n",
    "- Do Karnaugh Map simplification if possible and obtain a boolen expression\n",
    "- Simplest: Use of sum of products method to obtain a boolean expression\n",
    "- Use existing softwares, i.e. Xilinx to use physical units such as the field programmable gate arrays (FPGAs)"
   ]
  },
  {
   "cell_type": "markdown",
   "metadata": {},
   "source": [
    "#### 3. Finite State Machines (FSM):\n",
    "An abstract machine, a computational model that carry out boolean tasks. It is a collection of states (vectors describing a certain property) and how they are talking to each other as well as the inputs. There are two types depending on how the output is determined,\n",
    "- Moore machine: Output depends only on the current states\n",
    "- Mealy machine: Output depends on both the current states and the inputs\n"
   ]
  },
  {
   "cell_type": "code",
   "execution_count": 32,
   "metadata": {
    "scrolled": true
   },
   "outputs": [
    {
     "data": {
      "text/html": [
       "<iframe src=\"https://ivanzuzak.info/noam/webapps/fsm_simulator\" width=\"800\" height=\"800\"></iframe>\n"
      ],
      "text/plain": [
       "<IPython.core.display.HTML object>"
      ]
     },
     "metadata": {},
     "output_type": "display_data"
    }
   ],
   "source": [
    "%%html \n",
    "<iframe src=\"https://ivanzuzak.info/noam/webapps/fsm_simulator\" width=\"800\" height=\"800\"></iframe>"
   ]
  },
  {
   "cell_type": "markdown",
   "metadata": {},
   "source": [
    "A computer and subunits of a computer are gigantic FSMs along with its all possible bits could be stored."
   ]
  },
  {
   "cell_type": "markdown",
   "metadata": {},
   "source": [
    "One can then build more complex structures out of buffers, latches, memories, CPU etc."
   ]
  },
  {
   "cell_type": "markdown",
   "metadata": {},
   "source": [
    "### Quantum Computation"
   ]
  },
  {
   "cell_type": "raw",
   "metadata": {},
   "source": [
    "- Analog level: solid-state materials-  spin systems, impurities in crystals, quantum dots, photonic systems- laser setups, cold atoms- ion traps, Rydberg atoms, programmable optical lattices etc.\n",
    "- Digital level: input and desired output, truth table SET, quantum logic design, q-logic-gate implementation "
   ]
  },
  {
   "cell_type": "markdown",
   "metadata": {},
   "source": [
    "Quantum mechanics tells us how a microscopic system evolve as a probabilistic wave. The operators are matrices, the wavefunction is a vector.\n",
    "\n",
    "QM is reversable, therefore we will have reversable type of operations throughout, or we will make generalize the irreversable operations in classical computing to reversable. For example, the AND-gate is not a reversable logic gate, i.e. a possible outcome 0 could potentially be provided by three different input pairs, $00,01,10$. \n",
    "\n",
    "Q: How to achieve a reversable computation? A: Keeping the input as the additional bits during each operation. (see 2-qubit subsection)\n",
    "\n",
    "Q: Why is it useful? A: If the computation is reversable, we must be able to carry out an operation in the opposite direction. It implies that the input bits must be kept.\n",
    "\n",
    "Open Q: What about the intermediate states?"
   ]
  },
  {
   "cell_type": "markdown",
   "metadata": {},
   "source": [
    "#### 1.1 Single QBit\n",
    "\n",
    "A linear combination of two states of a bit: $\\mid \\psi \\rangle = \\alpha \\mid 0 \\rangle + \\beta \\mid 1 \\rangle = \\begin{pmatrix} \\alpha \\\\ \\beta \\end{pmatrix}$. $\\mid \\alpha \\mid^2$ probility to be in state $\\mid 0 \\rangle$ and $\\mid \\beta \\mid^2$ probility to be in state $\\mid 1 \\rangle$.\n",
    "\n",
    "In this respect, CBit is a special case of Qbit where $(\\alpha,\\beta) = (1,0)$ or $(0,1)$.\n",
    "\n"
   ]
  },
  {
   "cell_type": "markdown",
   "metadata": {},
   "source": [
    "However, one can define unit vectors as a continuous function of angle $\\phi = \\tan^{-1}{\\beta/\\alpha}$ for each Q-bit."
   ]
  },
  {
   "cell_type": "code",
   "execution_count": 9,
   "metadata": {},
   "outputs": [
    {
     "data": {
      "text/plain": [
       "Text(0.5, 1.0, 'Qbits - Cts Constellation')"
      ]
     },
     "execution_count": 9,
     "metadata": {},
     "output_type": "execute_result"
    },
    {
     "data": {
      "image/png": "[encoded data removed]",
      "text/plain": [
       "<Figure size 432x288 with 2 Axes>"
      ]
     },
     "metadata": {
      "needs_background": "light"
     },
     "output_type": "display_data"
    }
   ],
   "source": [
    "phi = 2 * sc.pi*linspace(0,1,101)\n",
    "r   = ones((len(phi),))\n",
    " \n",
    "fig, ax = plt.subplots(1,2,subplot_kw={'projection': 'polar'})\n",
    "ax[0].plot(phi, r)\n",
    "ax[0].set_rmax(1.4)\n",
    "ax[0].set_rticks([0.5, 1, 1.5, 2])  # Less radial ticks\n",
    "\n",
    "ax[0].scatter(0, 1.)\n",
    "ax[0].scatter(pi/2, 1.)\n",
    "ax[0].set_title(\"Cbits\")\n",
    "\n",
    "pts = 2 * pi*linspace(0,1,9)\n",
    "ax[1].plot(phi, r)\n",
    "ax[1].set_rmax(1.4)\n",
    "ax[1].set_rticks([0.5, 1, 1.5, 2])  # Less radial ticks\n",
    "\n",
    "ax[1].scatter(pts, ones((len(pts),)))\n",
    "ax[1].set_title(\"Qbits - Cts Constellation\")"
   ]
  },
  {
   "cell_type": "markdown",
   "metadata": {},
   "source": [
    "Here, we assumed real valued coefficients, but they are actually defined as complex numbers. Thereby, the states live on the unit sphere, known as the Bloch sphere."
   ]
  },
  {
   "cell_type": "markdown",
   "metadata": {},
   "source": [
    "In this respect, the Q-logic gate operations can be viewed as the rotations on a Bloch sphere from on location to another. We will come back to this point below at (*)."
   ]
  },
  {
   "cell_type": "markdown",
   "metadata": {},
   "source": [
    "Amony the 1-bit operators, only identity and NOT are reversable.\n",
    "\n",
    "- NOT gate is denoted as $X$-gate, the Pauli X matrix.\n",
    "\n",
    "$$X = \\begin{pmatrix} 0&1 \\\\ 1 & 0 \\end{pmatrix} \\quad \\to \\quad \\begin{pmatrix} 0&1 \\\\ 1 & 0 \\end{pmatrix}  \\begin{pmatrix} \\alpha \\\\ \\beta \\end{pmatrix} = \\begin{pmatrix} \\beta \\\\\\alpha \\end{pmatrix}.$$\n",
    "\n",
    "It reverses the coefficients of a Qbit."
   ]
  },
  {
   "cell_type": "code",
   "execution_count": 10,
   "metadata": {
    "tags": []
   },
   "outputs": [
    {
     "data": {
      "text/plain": [
       "Text(0.5, 1.0, 'NOT gate')"
      ]
     },
     "execution_count": 10,
     "metadata": {},
     "output_type": "execute_result"
    },
    {
     "data": {
      "image/png": "[encoded data removed]",
      "text/plain": [
       "<Figure size 432x288 with 2 Axes>"
      ]
     },
     "metadata": {
      "needs_background": "light"
     },
     "output_type": "display_data"
    }
   ],
   "source": [
    "X = np.array([[0.,1.],[1.,0.]],dtype='double')\n",
    "input1 = [0.,1.]\n",
    "output1 = dot(X,input1)\n",
    "\n",
    "input2 = [1.,0.]\n",
    "output2 = dot(X,input2)\n",
    "\n",
    "phi = 2 * pi*linspace(0,1,101)\n",
    "r   = ones((len(phi),))\n",
    " \n",
    "fig, ax = plt.subplots(1,2,subplot_kw={'projection': 'polar'})\n",
    "ax[0].plot(phi, r)\n",
    "ax[0].set_rmax(1.4)\n",
    "ax[0].set_rticks([0.5, 1, 1.5, 2])  # Less radial ticks\n",
    "\n",
    "ax[0].scatter(arctan(input1[1]/(input1[0]+1e-31)), norm(input1), label=\"input |1>\")\n",
    "ax[0].scatter(arctan(output1[1]/(output1[0]+1e-31)), norm(output1), label=\"output |0>\")\n",
    "ax[0].legend(loc=\"lower left\")\n",
    "ax[0].set_title(\"NOT gate\")\n",
    "\n",
    "ax[1].plot(phi, r)\n",
    "ax[1].set_rmax(1.4)\n",
    "ax[1].set_rticks([0.5, 1, 1.5, 2])  # Less radial ticks\n",
    "\n",
    "ax[1].scatter(arctan(input2[1]/(input2[0]+1e-31)), norm(input2), label=\"input |0>\")\n",
    "ax[1].scatter(arctan(output2[1]/(output2[0]+1e-31)), norm(output2), label=\"output |1>\")\n",
    "ax[1].legend(loc=\"lower left\")\n",
    "ax[1].set_title(\"NOT gate\")"
   ]
  },
  {
   "cell_type": "markdown",
   "metadata": {},
   "source": [
    "- A very important gate: Hadamard gate\n",
    "$$H = \\frac{1}{\\sqrt{2}}\\begin{pmatrix} 1&1 \\\\ 1 & -1 \\end{pmatrix}, $$\n",
    "\n",
    "$$H \\begin{pmatrix} 1 \\\\ 0 \\end{pmatrix} = \\frac{1}{\\sqrt{2}} \\begin{pmatrix} 1 \\\\ 1 \\end{pmatrix}, \\quad H \\begin{pmatrix} 0 \\\\ 1 \\end{pmatrix} = \\frac{1}{\\sqrt{2}} \\begin{pmatrix} 1 \\\\ -1 \\end{pmatrix}.$$\n",
    "\n",
    "It generates a linear combination of bits. When applied 2-times, because the it is its own inverse, it provides the original input. $H^2 = I$. "
   ]
  },
  {
   "cell_type": "code",
   "execution_count": 11,
   "metadata": {},
   "outputs": [
    {
     "data": {
      "text/plain": [
       "<matplotlib.legend.Legend at 0x233e4481b80>"
      ]
     },
     "execution_count": 11,
     "metadata": {},
     "output_type": "execute_result"
    },
    {
     "data": {
      "image/png": "[encoded data removed]",
      "text/plain": [
       "<Figure size 432x288 with 2 Axes>"
      ]
     },
     "metadata": {
      "needs_background": "light"
     },
     "output_type": "display_data"
    }
   ],
   "source": [
    "Had = np.array([[1.,1.],[1.,-1.]],dtype='double')/sqrt(2)\n",
    "input1 = [0.,1.]\n",
    "output1 = dot(Had,input1)\n",
    "\n",
    "input2 = [1.,0.]\n",
    "output2 = dot(Had,input2)\n",
    "\n",
    "phi = 2 * pi*linspace(0,1,101)\n",
    "r   = ones((len(phi),))\n",
    " \n",
    "fig, ax = plt.subplots(1,2,subplot_kw={'projection': 'polar'})\n",
    "ax[0].plot(phi, r)\n",
    "ax[0].set_rmax(1.4)\n",
    "ax[0].set_rticks([0.5, 1, 1.5, 2])  # Less radial ticks\n",
    "\n",
    "ax[0].scatter(arctan(input1[1]/(input1[0]+1e-31)), norm(input1), label=\"input |1>\")\n",
    "ax[0].scatter(arctan(output1[1]/(output1[0]+1e-31)), norm(output1), label=\"output |0>-|1>\")\n",
    "ax[0].legend(loc=\"lower left\")\n",
    "\n",
    "ax[1].plot(phi, r)\n",
    "ax[1].set_rmax(1.4)\n",
    "ax[1].set_rticks([0.5, 1, 1.5, 2])  # Less radial ticks\n",
    "\n",
    "ax[1].scatter(arctan(input2[1]/(input2[0]+1e-31)), norm(input2), label=\"input |0>\")\n",
    "ax[1].scatter(arctan(output2[1]/(output2[0]+1e-31)), norm(output2), label=\"output |0>+|1>\")\n",
    "ax[1].legend(loc=\"lower left\")"
   ]
  },
  {
   "cell_type": "markdown",
   "metadata": {},
   "source": [
    "From a QM perspective, it is the diagonalizing matrix for the pauli X matrix, NOT gate $X$."
   ]
  },
  {
   "cell_type": "code",
   "execution_count": null,
   "metadata": {},
   "outputs": [],
   "source": [
    "Homework:\n",
    "    - Deustche algorithm"
   ]
  },
  {
   "cell_type": "markdown",
   "metadata": {},
   "source": [
    "#### 1.2 2-Qbit\n",
    "\n",
    "Tensor product of vectors:\n",
    "    $$\\left( \\alpha \\mid \\alpha_1 \\rangle + \\beta \\mid \\beta_1 \\rangle \\right)\\left( \\alpha \\mid \\alpha_2 \\rangle + \\beta \\mid \\beta_2 \\rangle \\right) =\\begin{pmatrix} \\alpha_1 \\\\ \\beta_1 \\end{pmatrix} \\otimes \\begin{pmatrix} \\alpha_2 \\\\ \\beta_2 \\end{pmatrix} = \\begin{pmatrix} \\alpha_1 \\begin{pmatrix} \\alpha_2 \\\\ \\beta_2 \\end{pmatrix} \\\\ \\beta_1 \\begin{pmatrix} \\alpha_2 \\\\ \\beta_2 \\end{pmatrix} \\end{pmatrix} = \\begin{pmatrix} \\alpha_1 \\alpha_2\\\\ \\alpha_1 \\beta_2 \\\\ \\beta_1 \\alpha_1 \\\\ \\beta_1 \\beta_2 \\end{pmatrix}.$$\n",
    "    \n",
    "Sometimes use the notation, $\\mid 3 \\rangle = \\mid 11 \\rangle$ and $\\mid 4 \\rangle = \\mid 100 \\rangle$. \n",
    "\n",
    "Therefore, to represent a arbitrary state say, $\\mid 125 \\rangle$, one need $n$ digits or $n$ tensor product of vectors where $n$ is the smallest integer satisfying $2^n-1\\ge 125$. Hence, $n=7.$"
   ]
  },
  {
   "cell_type": "markdown",
   "metadata": {},
   "source": [
    "- C-not gate: An analogous NAND gate in quantum computing. \n",
    "\n",
    "$$CNOT = \\begin{pmatrix} 1&0&0&0 \\\\0&1&0&0\\\\ 0&0&0&1 \\\\ 0&0&1&0 \\end{pmatrix}$$\n",
    "\n",
    "It acts on 2-Qbit vectors. The first bit determines the operation on the second bit.\n",
    "If the first bit is 1, then the second bit is reversed, otherwise the second bit remains the same. For example,\n",
    "$$CNOT \\mid 1 0 \\rangle =  \\begin{pmatrix} 1&0&0&0 \\\\0&1&0&0\\\\ 0&0&0&1 \\\\ 0&0&1&0 \\end{pmatrix} \\begin{pmatrix} 0 \\\\ 1 \\end{pmatrix} \\otimes \\begin{pmatrix} 1 \\\\ 0 \\end{pmatrix} = \\begin{pmatrix} 1&0&0&0 \\\\0&1&0&0\\\\ 0&0&0&1 \\\\ 0&0&1&0 \\end{pmatrix} \\begin{pmatrix} 0 \\\\0\\\\ 1 \\\\ 0 \\end{pmatrix} = \\begin{pmatrix} 0 \\\\0\\\\ 0 \\\\ 1 \\end{pmatrix} = \\begin{pmatrix} 0 \\\\ 1 \\end{pmatrix} \\otimes \\begin{pmatrix} 0 \\\\ 1 \\end{pmatrix} = \\mid 1 1 \\rangle$$\n"
   ]
  },
  {
   "cell_type": "markdown",
   "metadata": {},
   "source": [
    "##### - At this stage, it may vey well look like \"we have bunch of matrices to be multiplied and one somehow yield desired output\". It is totally OK. "
   ]
  },
  {
   "cell_type": "markdown",
   "metadata": {},
   "source": [
    "#### Some fun with Qiskit Library"
   ]
  },
  {
   "cell_type": "code",
   "execution_count": 12,
   "metadata": {},
   "outputs": [],
   "source": [
    "from qiskit import QuantumCircuit"
   ]
  },
  {
   "cell_type": "code",
   "execution_count": 33,
   "metadata": {},
   "outputs": [
    {
     "data": {
      "image/png": "[encoded data removed]",
      "text/plain": [
       "<Figure size 387.597x204.68 with 1 Axes>"
      ]
     },
     "execution_count": 33,
     "metadata": {},
     "output_type": "execute_result"
    }
   ],
   "source": [
    "# Create a Quantum Circuit acting on a quantum register of three qubits\n",
    "circ = QuantumCircuit(3)\n",
    "\n",
    "# Add X and H gate on qubit 0, putting this qubit in superposition.,\n",
    "circ.x(0)\n",
    "circ.h(0)\n",
    "circ.h(1)\n",
    "# Add a CX (CNOT) gate on control qubit 0 and target qubit 1, putting\n",
    "# the qubits in a Bell state.\n",
    "circ.cx(0, 1)\n",
    "# Add a CX (CNOT) gate on control qubit 0 and target qubit 2, putting\n",
    "# the qubits in a GHZ state.\n",
    "circ.cx(0, 2)\n",
    "\n",
    "circ.h(0)\n",
    "circ.h(1)\n",
    "\n",
    "circ.draw('mpl')"
   ]
  },
  {
   "cell_type": "code",
   "execution_count": 14,
   "metadata": {},
   "outputs": [
    {
     "data": {
      "image/png": "[encoded data removed]",
      "text/plain": [
       "<Figure size 628.397x264.88 with 1 Axes>"
      ]
     },
     "execution_count": 14,
     "metadata": {},
     "output_type": "execute_result"
    }
   ],
   "source": [
    "# Create a Quantum Circuit\n",
    "meas = QuantumCircuit(3, 3)\n",
    "meas.barrier(range(3))\n",
    "# map the quantum measurement to the classical bits\n",
    "meas.measure(range(3), range(3))\n",
    "\n",
    "# The Qiskit circuit object supports composition.\n",
    "# Here the meas has to be first and front=True (putting it before)\n",
    "# as compose must put a smaller circuit into a larger one.\n",
    "qc = meas.compose(circ, range(3), front=True)\n",
    "\n",
    "#drawing the circuit\n",
    "qc.draw('mpl')"
   ]
  },
  {
   "cell_type": "markdown",
   "metadata": {},
   "source": [
    "### Shor's Integer Factoring Algorithm"
   ]
  },
  {
   "cell_type": "markdown",
   "metadata": {},
   "source": [
    "Note that this section is borrowed from the IBM Quiskit website, \"Shor's Algorithm\" on 22.03.22 and can be accessed from: https://qiskit.org/textbook/ch-algorithms/shor.html"
   ]
  },
  {
   "cell_type": "code",
   "execution_count": 15,
   "metadata": {},
   "outputs": [
    {
     "name": "stdout",
     "output_type": "stream",
     "text": [
      "Imports Successful\n"
     ]
    }
   ],
   "source": [
    "import matplotlib.pyplot as plt\n",
    "import numpy as np\n",
    "from qiskit import QuantumCircuit, Aer, transpile, assemble\n",
    "from qiskit.visualization import plot_histogram\n",
    "from math import gcd\n",
    "from numpy.random import randint\n",
    "import pandas as pd\n",
    "from fractions import Fraction\n",
    "print(\"Imports Successful\")"
   ]
  },
  {
   "cell_type": "raw",
   "metadata": {},
   "source": [
    "Classical algorithm -- Quantum Physics -- Classical Algortihm\n",
    "-- period finding algorithm -- "
   ]
  },
  {
   "cell_type": "markdown",
   "metadata": {},
   "source": [
    "Quantum algorithm: A period finding algorithm of a function mod $N$:\n",
    "    $$f(x) = a^x (mod-N)$$"
   ]
  },
  {
   "cell_type": "markdown",
   "metadata": {},
   "source": [
    "Basically, search for a mutually prime pair quest can be mapped into a period finding algorithm for exponential functions. Beware that a real valued single exponential is not periodic but its reminder by division with a number, say N."
   ]
  },
  {
   "cell_type": "code",
   "execution_count": 34,
   "metadata": {},
   "outputs": [],
   "source": [
    "def c_amod15(a, power):\n",
    "    \"\"\"Controlled multiplication by a mod 15\"\"\"\n",
    "    if a not in [2,7,8,11,13]:\n",
    "        raise ValueError(\"'a' must be 2,7,8,11 or 13\")\n",
    "    U = QuantumCircuit(4)        \n",
    "    for iteration in range(power):\n",
    "        if a in [2,13]:\n",
    "            U.swap(0,1)\n",
    "            U.swap(1,2)\n",
    "            U.swap(2,3)\n",
    "        if a in [7,8]:\n",
    "            U.swap(2,3)\n",
    "            U.swap(1,2)\n",
    "            U.swap(0,1)\n",
    "        if a == 11:\n",
    "            U.swap(1,3)\n",
    "            U.swap(0,2)\n",
    "        if a in [7,11,13]:\n",
    "            for q in range(4):\n",
    "                U.x(q)\n",
    "    U = U.to_gate()\n",
    "    U.name = \"%i^%i mod 15\" % (a, power)\n",
    "    c_U = U.control()\n",
    "    return c_U"
   ]
  },
  {
   "cell_type": "markdown",
   "metadata": {},
   "source": [
    "Let us use 8 counting q-bits"
   ]
  },
  {
   "cell_type": "code",
   "execution_count": 35,
   "metadata": {},
   "outputs": [],
   "source": [
    "# Specify variables\n",
    "n_count = 8  # number of counting qubits\n",
    "a = 7"
   ]
  },
  {
   "cell_type": "markdown",
   "metadata": {},
   "source": [
    "Quantum Fourier transform unit:"
   ]
  },
  {
   "cell_type": "code",
   "execution_count": 36,
   "metadata": {},
   "outputs": [],
   "source": [
    "def qft_dagger(n):\n",
    "    \"\"\"n-qubit QFTdagger the first n qubits in circ\"\"\"\n",
    "    qc = QuantumCircuit(n)\n",
    "    # Don't forget the Swaps!\n",
    "    for qubit in range(n//2):\n",
    "        qc.swap(qubit, n-qubit-1)\n",
    "    for j in range(n):\n",
    "        for m in range(j):\n",
    "            qc.cp(-np.pi/float(2**(j-m)), m, j)\n",
    "        qc.h(j)\n",
    "    qc.name = \"QFT†\"\n",
    "    return qc"
   ]
  },
  {
   "cell_type": "markdown",
   "metadata": {},
   "source": [
    "We now have, unitary logic gates and all other black-boxes. We can now create the circuit for Shor's algorithm."
   ]
  },
  {
   "cell_type": "code",
   "execution_count": 37,
   "metadata": {},
   "outputs": [
    {
     "data": {
      "image/png": "[encoded data removed]",
      "text/plain": [
       "<Figure size 882.631x322.672 with 1 Axes>"
      ]
     },
     "execution_count": 37,
     "metadata": {},
     "output_type": "execute_result"
    }
   ],
   "source": [
    "# Create QuantumCircuit with n_count counting qubits\n",
    "# plus 4 qubits for U to act on\n",
    "qc = QuantumCircuit(n_count + 4, n_count)\n",
    "\n",
    "# Initialize counting qubits\n",
    "# in state |+>\n",
    "for q in range(n_count):\n",
    "    qc.h(q)\n",
    "    \n",
    "# And auxiliary register in state |1>\n",
    "qc.x(3+n_count)\n",
    "\n",
    "# Do controlled-U operations\n",
    "for q in range(n_count):\n",
    "    qc.append(c_amod15(a, 2**q), \n",
    "             [q] + [i+n_count for i in range(4)])\n",
    "\n",
    "# Do inverse-QFT\n",
    "qc.append(qft_dagger(n_count), range(n_count))\n",
    "\n",
    "# Measure circuit\n",
    "qc.measure(range(n_count), range(n_count))\n",
    "qc.draw(output='mpl',fold=-1, scale=0.4)  # -1 means 'do not fold' "
   ]
  },
  {
   "cell_type": "markdown",
   "metadata": {},
   "source": [
    "Let us also do an experiment and make a measurement:"
   ]
  },
  {
   "cell_type": "code",
   "execution_count": 38,
   "metadata": {},
   "outputs": [
    {
     "data": {
      "image/png": "[encoded data removed]",
      "text/plain": [
       "<Figure size 504x360 with 1 Axes>"
      ]
     },
     "execution_count": 38,
     "metadata": {},
     "output_type": "execute_result"
    }
   ],
   "source": [
    "aer_sim = Aer.get_backend('aer_simulator')\n",
    "t_qc = transpile(qc, aer_sim)\n",
    "qobj = assemble(t_qc)\n",
    "results = aer_sim.run(qobj).result()\n",
    "counts = results.get_counts()\n",
    "plot_histogram(counts)"
   ]
  },
  {
   "cell_type": "markdown",
   "metadata": {},
   "source": [
    "The results are for 8 qubits and x-axis represent these bits."
   ]
  },
  {
   "cell_type": "markdown",
   "metadata": {},
   "source": [
    "### References\n",
    "- Microsoft Research, video lectures: https://www.youtube.com/watch?v=F_Riqjdh2oM Retrieved on 13.03.22\n",
    "- IBM Qiskit, tutorials https://qiskit.org/documentation/tutorials.html Retrieved on 13.03.22"
   ]
  },
  {
   "cell_type": "code",
   "execution_count": null,
   "metadata": {},
   "outputs": [],
   "source": []
  }
 ],
 "metadata": {
  "kernelspec": {
   "display_name": "Python 3",
   "language": "python",
   "name": "python3"
  },
  "language_info": {
   "codemirror_mode": {
    "name": "ipython",
    "version": 3
   },
   "file_extension": ".py",
   "mimetype": "text/x-python",
   "name": "python",
   "nbconvert_exporter": "python",
   "pygments_lexer": "ipython3",
   "version": "3.8.5"
  }
 },
 "nbformat": 4,
 "nbformat_minor": 5
}
