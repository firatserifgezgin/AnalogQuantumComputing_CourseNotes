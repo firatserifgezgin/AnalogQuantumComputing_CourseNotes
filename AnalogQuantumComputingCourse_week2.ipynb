{
 "cells": [
  {
   "cell_type": "markdown",
   "metadata": {},
   "source": [
    "### A Crash Course on Quantum Simulation\n",
    "\n",
    "#### Week 2-3."
   ]
  },
  {
   "cell_type": "markdown",
   "metadata": {},
   "source": [
    "Plan:\n",
    "A. Basics of Circuit Theory\n",
    "- Kirshhoff's Laws: Review\n",
    "- A Lagrangian Formulation\n",
    "- An Hamiltonian Formulation\n",
    "B. Basics of Quantum Mechanics\n",
    "- Schrödinger Equation\n",
    "- Representations in various basis choices\n",
    "- Tight-Binding Hamiltonian\n",
    "Example: Telegraph Equation vs SSH circuit"
   ]
  },
  {
   "cell_type": "markdown",
   "metadata": {},
   "source": [
    "### A. Basics of Circuit Theory: \n",
    "\n",
    "#### Kirschhoff's and Ohm's Laws: \n",
    "Kirschoff Laws\n",
    "- Kirschhoff's 1st Law: Conservation of total charge per unit area and time (current law)\n",
    "$\\sum_i I_i = 0.$\n",
    "\n",
    "- Kirchhoff's 2nd Law: Conservation of energy per unit charge (voltage law\n",
    "$\\sum_i^{loop} V_i = 0.$\n",
    "\n",
    "- Ohm's Law: DC current response and voltage across are proportional up to a constant, called R.\n",
    "$ V = I R$\n",
    "\n",
    "<img src=\"KirshhoffCircuit.png\" width=\"320\">"
   ]
  },
  {
   "cell_type": "markdown",
   "metadata": {},
   "source": [
    "<br>\n",
    "<br>\n",
    "<br>\n",
    "<br>\n",
    "<br>\n",
    "<br>\n",
    "<br>\n",
    "<br>\n",
    "<br>"
   ]
  },
  {
   "cell_type": "markdown",
   "metadata": {},
   "source": [
    "#### Numerical solution"
   ]
  },
  {
   "cell_type": "markdown",
   "metadata": {},
   "source": [
    "Initiate the libraries:"
   ]
  },
  {
   "cell_type": "code",
   "execution_count": 1,
   "metadata": {},
   "outputs": [],
   "source": [
    "import scipy as sc\n",
    "import sympy as sy\n",
    "import numpy as np\n",
    "import matplotlib.pyplot as plt"
   ]
  },
  {
   "cell_type": "markdown",
   "metadata": {},
   "source": [
    "Define the variables (unknowns):"
   ]
  },
  {
   "cell_type": "code",
   "execution_count": 2,
   "metadata": {},
   "outputs": [],
   "source": [
    "# A python solution (conventional):\n",
    "vr1, vr2, vr3   = sy.symbols('vr1,vr2,vr3',complex=True)\n",
    "i1,i2,i3 = sy.symbols('i1,i2,i3',complex=True)"
   ]
  },
  {
   "cell_type": "markdown",
   "metadata": {},
   "source": [
    "Define the system variables,"
   ]
  },
  {
   "cell_type": "code",
   "execution_count": 3,
   "metadata": {},
   "outputs": [],
   "source": [
    "# driving frequency for each voltage\n",
    "omega1 = 0.\n",
    "omega2 = 0.\n",
    "\n",
    "# voltage sources\n",
    "E1 = 10.*sy.cos(omega1)\n",
    "E2 = 7.*sy.cos(omega2)\n",
    "\n",
    "# resistors\n",
    "r1 = 30.\n",
    "r2 = 100.\n",
    "r3 = 100."
   ]
  },
  {
   "cell_type": "markdown",
   "metadata": {},
   "source": [
    "define equations:\n",
    "$$I_i = V_i/R_i \\quad \\to \\quad f_i = I_i - V_i/r_i$$"
   ]
  },
  {
   "cell_type": "code",
   "execution_count": 4,
   "metadata": {},
   "outputs": [],
   "source": [
    "# Ohm's law\n",
    "eq1 = i1 - vr1/r1\n",
    "eq2 = i2 - vr2/r2\n",
    "eq3 = i3 - vr3/r3\n",
    "# Kirshhoff current law for either of nodes\n",
    "eq4 = i1-i2-i3\n",
    "# Kirshhoff voltage law for two loops\n",
    "eq5 = vr2+E1-vr1\n",
    "eq6 = vr3-E2-E1-vr2"
   ]
  },
  {
   "cell_type": "markdown",
   "metadata": {},
   "source": [
    "obtain a symbolic solution by command: sy.solve"
   ]
  },
  {
   "cell_type": "code",
   "execution_count": 5,
   "metadata": {},
   "outputs": [],
   "source": [
    "answers = sy.solve([eq1,eq2,eq3,eq4,eq5,eq6],(vr1,vr2,vr3,i1,i2,i3))"
   ]
  },
  {
   "cell_type": "markdown",
   "metadata": {},
   "source": [
    "print out the answers:"
   ]
  },
  {
   "cell_type": "code",
   "execution_count": 6,
   "metadata": {},
   "outputs": [
    {
     "name": "stdout",
     "output_type": "stream",
     "text": [
      "vr1:-2.25000000000000\n",
      "vr2:-12.2500000000000\n",
      "vr3:4.75000000000000\n",
      "i1:-0.0750000000000000\n",
      "i2:-0.122500000000000\n",
      "i3:0.0475000000000000\n"
     ]
    }
   ],
   "source": [
    "for x in answers:\n",
    "    print(str(x)+\":\"+str(answers[x]))"
   ]
  },
  {
   "cell_type": "markdown",
   "metadata": {},
   "source": [
    "So far, time independent! Let us introduce time dependence"
   ]
  },
  {
   "cell_type": "code",
   "execution_count": 7,
   "metadata": {},
   "outputs": [],
   "source": [
    "t = sy.symbols('t')\n",
    "L = 101\n",
    "omega1 = 0.\n",
    "omega2 = 0.\n",
    "answersMatrix = [];\n",
    "import cmath\n",
    "tvec = np.linspace(0,2,L)\n",
    "for indt in np.arange(L):\n",
    "    t = tvec[indt]\n",
    "    E1 = 10.*sy.cos(omega1*t)\n",
    "    E2 = 7.*sy.cos(omega2*t)\n",
    "    # Ohm's law\n",
    "    eq1 = i1 - vr1/r1\n",
    "    eq2 = i2 - vr2/r2\n",
    "    eq3 = i3 - vr3/r3\n",
    "    # Kirshhoff current law for either of nodes\n",
    "    eq4 = i1-i2-i3\n",
    "    # Kirshhoff voltage law for two loops\n",
    "    eq5 = vr2+E1-vr1\n",
    "    eq6 = vr3-E2-E1-vr2\n",
    "    answersMatrix.append(sy.solve([eq1,eq2,eq3,eq4,eq5,eq6],(vr1,vr2,vr3,i1,i2,i3)))"
   ]
  },
  {
   "cell_type": "markdown",
   "metadata": {},
   "source": [
    "Extract the float digits from the string output tuple form"
   ]
  },
  {
   "cell_type": "code",
   "execution_count": 8,
   "metadata": {},
   "outputs": [],
   "source": [
    "import re\n",
    "test_list = str(answersMatrix)\n",
    "tempList = np.asarray(re.findall(r'[\\d\\.\\d]+', test_list), dtype=np.float64)\n",
    "tempList = tempList[np.arange(1,L*6*2,2)]"
   ]
  },
  {
   "cell_type": "code",
   "execution_count": 9,
   "metadata": {},
   "outputs": [],
   "source": [
    "unknowns =np.reshape(tempList,(6,L))"
   ]
  },
  {
   "cell_type": "code",
   "execution_count": 10,
   "metadata": {},
   "outputs": [],
   "source": [
    "from mpl_toolkits.mplot3d import Axes3D\n",
    "from matplotlib.pylab import * # for plotting commands\n",
    "import matplotlib.pyplot as plt"
   ]
  },
  {
   "cell_type": "code",
   "execution_count": 11,
   "metadata": {},
   "outputs": [
    {
     "data": {
      "image/png": "[encoded data removed]",
      "text/plain": [
       "<Figure size 1008x432 with 6 Axes>"
      ]
     },
     "metadata": {
      "needs_background": "light"
     },
     "output_type": "display_data"
    }
   ],
   "source": [
    "f, ax = plt.subplots(2, 3, sharey=True, figsize=(14,6))\n",
    "for k in np.arange(3):\n",
    "    ax[0,k].plot(tvec,unknowns[k,:],'k')\n",
    "    ax[1,k].plot(tvec,unknowns[2+k,:],'k')"
   ]
  },
  {
   "cell_type": "markdown",
   "metadata": {},
   "source": [
    "#### Lagrange Formulation of Electric Circuits\n",
    "Lagrangian: $L = (Kinetic$ $energy) - (Potential$ $energy)$. \n",
    "\n",
    "The equation of motion is obtained by Euler-Lagrange equations. These are second order differential equations $q_i(t)$'s:\n",
    "\n",
    "\\begin{equation}\n",
    "\\frac{\\partial L}{\\partial q_i} - \\frac{d }{d t} \\frac{\\partial L}{\\partial d \\dot{q}_i} = 0, \\quad i \\in \\{1,2,3,...,N\\}\n",
    "\\end{equation}\n",
    "\n",
    "- q_i: elements of generalized coordinate, \n",
    "- p_i: elements of generalized momenta"
   ]
  },
  {
   "cell_type": "markdown",
   "metadata": {},
   "source": [
    "<br>\n",
    "<br>\n",
    "<br>\n",
    "<br>\n",
    "<br>"
   ]
  },
  {
   "cell_type": "markdown",
   "metadata": {},
   "source": [
    "We can generalize Kirshhoff's law to set of matrix relations. \n",
    "- Label all the voltages and the currents within a given network into a vector, $\\underline{V}, \\underline{I}$ or $V_i, I_i$.\n",
    "<center><img src=\"image1_2.jpg\" width=\"520\"></center>"
   ]
  },
  {
   "cell_type": "markdown",
   "metadata": {},
   "source": [
    "<br>\n",
    "<br>\n",
    "<br>\n",
    "<br>\n",
    "<br>\n",
    "<br>\n",
    "<br>\n",
    "<br>\n",
    "<br>"
   ]
  },
  {
   "cell_type": "markdown",
   "metadata": {},
   "source": [
    "- Calculate the matrix connecting voltages with currents for the network, $R,G $.\n",
    "For electric circuits, define the generalize position and momentum variables:\n",
    "\n",
    "Set 1:\n",
    "- Position: Charge accumulated at position $x$, $Q(x)$\n",
    "- Momentum: Rate of change in $Q(x)$, current pass through $x$, $I(x) = \\dot{Q}(x)$.\n",
    "\n",
    "Inductor,    $L_{inductor} = \\frac{1}{2} L \\dot{Q}^2 - 0 \\quad \\quad$ Capacitor,    $L_{capacitor} = 0-\\frac{1}{2C} Q^2\\quad \\quad$ Resistor,    $L_{resistor} = \\frac{1}{2} R \\dot{Q}^2 - 0$"
   ]
  },
  {
   "cell_type": "markdown",
   "metadata": {},
   "source": [
    "<br>\n",
    "<br>\n",
    "<br>\n",
    "<br>\n",
    "<br>\n",
    "<br>\n",
    "<br>\n",
    "<br>\n",
    "<br>"
   ]
  },
  {
   "cell_type": "markdown",
   "metadata": {},
   "source": [
    "   \n",
    "Set 2: \n",
    "- Position: Magnetic flux accumulated at position $x$, $\\Phi(x)$ (less frequently used)\n",
    "- Momentum: Rate of change in $\\Phi(x)$, the voltage at $x$, $V(x) = \\dot{\\Phi}(x)$.\n",
    "\n",
    "\n",
    "Inductor, $L_{inductor} = 0-\\frac{1}{2L} \\Phi^2\\quad \\quad$ Capacitor,    $L_{capacitor} = \\frac{1}{2} C \\dot{\\Phi}^2-0 \\quad \\quad$ Resistor:\n",
    "    $L_{resistor} = 0-\\frac{1}{2R} \\Phi^2$"
   ]
  },
  {
   "cell_type": "markdown",
   "metadata": {},
   "source": [
    "<br>\n",
    "<br>\n",
    "<br>\n",
    "<br>\n",
    "<br>\n",
    "<br>\n",
    "<br>\n",
    "<br>\n",
    "<br>"
   ]
  },
  {
   "cell_type": "markdown",
   "metadata": {},
   "source": [
    "#### Example 1: RLC Circuit"
   ]
  },
  {
   "cell_type": "markdown",
   "metadata": {},
   "source": [
    "#### Hamiltonian Formulation of Electric Circuits\n",
    "Hamiltonian is the Legendre transform of the Lagrangian, it is equal to constant energy and as long as the forces are conservative.\n",
    "\\begin{equation}H = p\\dot{q} - L(q,\\dot{q},t)\\end{equation}\n",
    "\n",
    "For N pairs of variables,\n",
    "\n",
    "How to obtain the equation of motion? Two 1st order differential equation for $q_i$ and $p_i$,\n",
    "\\begin{equation}\\dot{p}_i = -\\frac{\\partial H}{\\partial q_i}, \\quad \\quad \\dot{q}_i = \\frac{\\partial H}{\\partial p_i}, \\quad \\frac{\\partial H}{\\partial t} = -\\frac{\\partial L}{\\partial t}\\end{equation}"
   ]
  },
  {
   "cell_type": "markdown",
   "metadata": {},
   "source": [
    "#### Example 1: RLC Circuit (Revisited)"
   ]
  },
  {
   "cell_type": "markdown",
   "metadata": {},
   "source": [
    "<br>\n",
    "<br>\n",
    "<br>\n",
    "<br>\n",
    "<br>\n",
    "<br>\n",
    "<br>\n",
    "<br>\n",
    "<br>"
   ]
  },
  {
   "cell_type": "markdown",
   "metadata": {},
   "source": [
    "### B. Basics of Quantum Mechanics"
   ]
  },
  {
   "cell_type": "markdown",
   "metadata": {},
   "source": [
    "<br>\n",
    "<br>\n",
    "<br>\n",
    "<br>\n",
    "<br>\n",
    "<br>\n",
    "<br>\n",
    "<br>\n",
    "<br>"
   ]
  },
  {
   "cell_type": "markdown",
   "metadata": {},
   "source": [
    "#### Representations in various basis choices (Optional)\n",
    "$\\langle u \\mid$: Bra : A vector of size $1 \\times N$ (think of vector $u$ or $\\vec{u}$)\n",
    "\n",
    "$\\mid v \\rangle$: Ket : A space vector of size $N \\times 1$ (think of vector $v^T$ or $\\vec{v}$)\n",
    "\n",
    "$\\langle u \\mid v \\rangle $: inner product, a number (think of $\\vec{u}\\cdot \\vec{v} \\equiv u^T v$)\n",
    "\n",
    "\n",
    "- \"It is possible to expand these vectors in another basis\". What does it mean? Think of an analogy in cartesian vectors:\n",
    "\n",
    "1. Consider a vector $\\vec{r}$, we can represent it by a set of orthonormal basis vectors $\\hat{e}_{x},\\hat{e}_{y},\\hat{e}_{z}$. \n",
    "\n",
    "We have  $\\hat{e}_{x} \\cdot \\hat{e}_{x} = 1$, $\\hat{e}_{x} \\cdot \\hat{e}_{y} = 0$ and in general $\\hat{e}_{i} \\cdot \\hat{e}_{j} = \\delta_{ij}$ where $i,j \\in \\{x,y,z \\}$.\n",
    "\n",
    "It spans 3D space.\n",
    "\n",
    "$\\vec{r} = r_x \\hat{e}_{x} + r_y \\hat{e}_{y} +  r_z \\hat{e}_{z}$. \n",
    "We obtain each component by projecting it to orthonormal basis vectors, e.g. $r_x \\equiv \\vec{r} \\cdot \\hat{e}_{x}$, $r_y \\equiv \\vec{r} \\cdot \\hat{e}_{y}$ etc.\n",
    "\n",
    "For example, $r_x = 3, r_y= 4, r_z = 5$, \n",
    "\n",
    "then $\\vec{r} = 3 \\hat{e}_{x} + 4 \\hat{e}_{y} + 5 \\hat{e}_{z}$.\n",
    "\n",
    "2. We can readily choose another basis, say x-y plane is rotated by $45^o$, then the new basis is: $\\hat{e}_{\\tilde{x}},\\hat{e}_{\\tilde{y}},\\hat{e}_{\\tilde{z}}$, where\n",
    "\n",
    "\\begin{equation}\\hat{e}_{\\tilde{x}} = \\frac{1}{\\sqrt{2}} \\left(\\hat{e}_{x} + \\hat{e}_{y}\\right),\\quad \\hat{e}_{\\tilde{y}} = \\frac{1}{\\sqrt{2}} \\left(-\\hat{e}_{x} + \\hat{e}_{y}\\right), \\quad \\hat{e}_{\\tilde{z}} = \\hat{e}_{z}.\\end{equation}"
   ]
  },
  {
   "cell_type": "markdown",
   "metadata": {},
   "source": [
    "<br>\n",
    "<br>\n",
    "<br>\n",
    "<br>\n",
    "<br>\n",
    "<br>\n",
    "<br>"
   ]
  },
  {
   "cell_type": "markdown",
   "metadata": {},
   "source": [
    "In the new basis, $\\vec{r} = r_\\tilde{x} \\hat{e}_{\\tilde{x}} + r_\\tilde{y} \\hat{e}_{\\tilde{y}} +  r_\\tilde{z} \\hat{e}_{\\tilde{z}}$ where\n",
    "\n",
    "\\begin{equation} r_\\tilde{x} = \\vec{r} \\cdot \\hat{e}_{\\tilde{x}} = (3 \\hat{e}_{x} + 4 \\hat{e}_{y} + 5 \\hat{e}_{z}) \\cdot \\frac{1}{\\sqrt{2}} \\left(\\hat{e}_{x} + \\hat{e}_{y}\\right) = \\frac{7}{\\sqrt{2}},\\end{equation}\n",
    "\n",
    "\\begin{equation} r_\\tilde{y} = \\vec{r} \\cdot \\hat{e}_{\\tilde{y}} = (3 \\hat{e}_{x} + 4 \\hat{e}_{y} + 5 \\hat{e}_{z}) \\cdot \\frac{1}{\\sqrt{2}} \\left(-\\hat{e}_{x} + \\hat{e}_{y}\\right) = \\frac{1}{\\sqrt{2}}\\end{equation}\n",
    "\n",
    "\\begin{equation} r_\\tilde{z} = r_z.\\end{equation}\n",
    "\n",
    "Then, $\\vec{r} = \\frac{7}{\\sqrt{2}} \\hat{e}_{\\tilde{x}} + \\frac{1}{\\sqrt{2}} \\hat{e}_{\\tilde{y}} +  5 \\hat{e}_{\\tilde{z}}$."
   ]
  },
  {
   "cell_type": "markdown",
   "metadata": {},
   "source": [
    "In Bra-Ket notation,\n",
    "$\\vec{r} \\to \\mid \\vec{r} \\rangle$."
   ]
  },
  {
   "cell_type": "markdown",
   "metadata": {},
   "source": [
    "<br>\n",
    "<br>\n",
    "<br>\n",
    "<br>\n",
    "<br>\n",
    "<br>\n",
    "<br>\n",
    "<br>\n",
    "<br>"
   ]
  },
  {
   "cell_type": "markdown",
   "metadata": {},
   "source": [
    "#### Schrödinger Equation\n",
    "\\begin{eqnarray}\n",
    "\\hat{H}(\\vec{r} ) \\Psi (\\vec{r} ) &=& \\left(-\\frac{\\hbar^2}{2 m} \\vec{\\nabla}^2 + V(x) \\right) \\Psi (\\vec{r} ) = E \\Psi(\\vec{r} )\n",
    "\\end{eqnarray}\n",
    "\n",
    "It is actually the real space basis representation of the Bra-Ket version:\n",
    "\\begin{equation} \\hat{H} \\mid \\Psi \\rangle = \\left( \\frac{\\hat{p}^2 }{2 m} + \\hat{V} \\right)  \\mid \\Psi \\rangle \\end{equation} "
   ]
  },
  {
   "cell_type": "markdown",
   "metadata": {},
   "source": [
    "<br>\n",
    "<br>\n",
    "<br>\n",
    "<br>\n",
    "<br>\n",
    "<br>\n",
    "<br>\n",
    "<br>\n",
    "<br>"
   ]
  },
  {
   "cell_type": "markdown",
   "metadata": {},
   "source": [
    "- Wavefunction: $\\Psi(\\vec{r} ) = \\langle \\vec{r} \\mid \\Psi \\rangle$\n",
    "- Operators: $-i \\hbar \\vec{\\nabla} = \\langle \\vec{r} \\mid \\hat{p} \\mid \\vec{r} \\rangle$\n",
    "\n",
    "\n",
    "#### Tight-Binding Hamiltonian\n",
    "Representation of the Schrödinger equation in a localized basis, $1 = \\sum \\mid \\vec{r} \\rangle \\langle \\vec{r} \\mid$\n",
    "\\begin{equation} \\hat{H} \\mid \\Psi \\rangle = \\left( \\frac{\\hat{p}^2 }{2 m} + \\hat{V} \\right)  \\mid \\Psi \\rangle \\end{equation} "
   ]
  },
  {
   "cell_type": "markdown",
   "metadata": {},
   "source": [
    "<br>\n",
    "<br>\n",
    "<br>\n",
    "<br>\n",
    "<br>\n",
    "<br>\n",
    "<br>\n",
    "<br>\n",
    "<br>"
   ]
  },
  {
   "cell_type": "markdown",
   "metadata": {},
   "source": [
    "#### Example: SSH model vs Telegraph Equation (transmission line)"
   ]
  },
  {
   "cell_type": "markdown",
   "metadata": {},
   "source": [
    "<br>\n",
    "<br>\n",
    "<br>\n",
    "<br>\n",
    "<br>\n",
    "<br>\n",
    "<br>\n",
    "<br>\n",
    "<br>"
   ]
  }
 ],
 "metadata": {
  "kernelspec": {
   "display_name": "Python 3",
   "language": "python",
   "name": "python3"
  },
  "language_info": {
   "codemirror_mode": {
    "name": "ipython",
    "version": 3
   },
   "file_extension": ".py",
   "mimetype": "text/x-python",
   "name": "python",
   "nbconvert_exporter": "python",
   "pygments_lexer": "ipython3",
   "version": "3.8.5"
  }
 },
 "nbformat": 4,
 "nbformat_minor": 4
}
