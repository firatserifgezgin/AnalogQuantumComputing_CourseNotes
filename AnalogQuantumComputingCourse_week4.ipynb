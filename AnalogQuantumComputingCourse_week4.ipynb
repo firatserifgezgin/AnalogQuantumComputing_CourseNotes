{
 "cells": [
  {
   "cell_type": "markdown",
   "metadata": {},
   "source": [
    "### A Crash Course on Quantum Simulation & Computation\n",
    "\n",
    "#### Week 4. Response Functions: Impedance measurement\n",
    "\n",
    "The electric circuit to simulate the desired Hamiltonians can simulate the topological phases of the matter. How can one verify it? Doing a measurement,\n",
    "- voltage distribution on each node, $V(i) = \\langle i | V \\rangle$. To compare the \"wave function\" with theory.\n",
    "- impedance measurement could reflect the topological vs trivial phase\n",
    "\n",
    "Our focus is give to the impedance measurement. In theory, it is called the response function in general. It can be defined between two arbitrary modes in a system, $Z_{ij}$."
   ]
  },
  {
   "cell_type": "markdown",
   "metadata": {},
   "source": [
    "##### Formal explanation:\n",
    "Note: Throughout the calculation, we use two basis vectors:\n",
    "- local basis $\\{ | i \\rangle \\}$: real space local voltage \"pieces\" which are orthonormal, i.e. $\\langle i | j \\rangle = \\delta_{ij}$.\n",
    "- eigenbasis for J, $\\{ | \\phi_m \\rangle \\}$ where $J | \\phi_m \\rangle = \\lambda_m |\\phi_m \\rangle$. $| \\phi_m \\rangle$ are real space extended voltage functions represented as vectors for each side. The basis vector are orthonormal, i.e. $\\langle \\phi_m | \\phi_n \\rangle = \\delta_{nm}$.\n",
    "\n",
    "Response function can indeed be calculated by using the Green's function of the corresponding operator, in our case the 'operator' is the Laplacian matrix, $J$ and the response function is the impedance, $Z_{ij}$ between two nodes, say $(i)$ and $(j)$.\n",
    "\n",
    "In the eigenbasis where , using the identity operator $\\mathbb{1} = \\sum_m |\\phi_m \\rangle \\langle \\phi_m |$, the Laplacian matrix $J$ can be expanded as follows:\n",
    "\n",
    "$$J =J  \\mathbb{1} = \\sum_m J |\\phi_m \\rangle \\langle \\phi_m | = \\sum_m \\lambda_m |\\phi_m \\rangle \\langle \\phi_m |$$\n",
    "\n",
    "It is called the \"expansion in the diagonal basis\". In this basis, $J$ literally has a diagonal matrix structure, i.e. arithmatic operations can be carried our as in scalars. In such a basis, it is easy to calculate the Green's function, $G(z) = (z - J)^{-1}$. the variable $z$ is the 'concern' of the complex analysis and causality, so simply ignore that. G(z) can easily be written as \"1 divided by the eigenvalues for each element\",\n",
    "$$G(z) = \\sum_m \\frac{1}{z-\\lambda_m} |\\phi_m \\rangle \\langle \\phi_m |$$\n",
    "\n",
    "Multiplyin both sides of $J | V \\rangle = | I \\rangle $ with $J^{-1}$, we obtain the following relation \n",
    "\n",
    "$$| V \\rangle = J^{-1} | I \\rangle = G(0)| I \\rangle$$\n",
    "\n",
    "Therefore, we obtain the voltage distribution. Let us first expand both sides with $\\mathbb{1} = \\sum_m |\\phi_m \\rangle \\langle \\phi_m |$,\n",
    "\n",
    "$$\\sum_m V_m |\\phi_m \\rangle = \\sum_m \\frac{1}{\\lambda_m} |\\phi_m \\rangle \\langle \\phi_m | I \\rangle$$"
   ]
  },
  {
   "cell_type": "markdown",
   "metadata": {},
   "source": [
    "- How do we calculate the impedance? We further connect a current source between node $(i)$ and $(j)$. What is $Z_{ij}$ seen through the port (i-j)? Ans: \n",
    "\n",
    "$$Z_{ij} = \\frac{V(i) - V(j)}{I}$$\n",
    "\n",
    "because the current is the same! Now, we will replace $V_i$ and $V_j$ and obtain a handy expression.\n",
    "\n",
    "In the local basis, the current vector $\\mathbb{1} | I \\rangle = \\sum_k I(k) |k\\rangle$ elements $I_k$ is known thanks to our assumption. $I_k$ is non zero when $k=i$ and $k=j$ but with opposite signs,\n",
    "\n",
    "$$I(k) = I (\\delta_{ki}-\\delta_{kj}).$$\n",
    "\n",
    "Similarly for the voltage vector $| V \\rangle $ in the local basis $\\mathbb{1} = \\sum_k |k \\rangle \\langle k|$,\n",
    "\n",
    "\\begin{eqnarray}\n",
    "\\mathbb{1}| V \\rangle &=& G| I \\rangle = \\mathbb{1} G \\mathbb{1} | I \\rangle,\\\\\n",
    "\\sum_k V(k) | k \\rangle &=& \\sum_{kp} |k \\rangle \\langle k| G |p \\rangle \\langle p  | I \\rangle,\\\\\n",
    "\\sum_k \\Big( V(k) &-& \\sum_{p} G(k,p) I(p) \\Big)| k \\rangle = 0 \n",
    "\\end{eqnarray}\n",
    "\n",
    "Matching the coefficients, we find $V(k)$ as\n",
    "\n",
    "$$V(k) = \\sum_{p} G(k,p) I(p), \\quad \\text{and} \\quad G(k,p) = \\sum_m \\frac{\\phi_m(p)^* \\phi_m(k)}{\\lambda_m}.$$"
   ]
  },
  {
   "cell_type": "markdown",
   "metadata": {},
   "source": [
    "- Using the result in the previous line along with $I(p) = I (\\delta_{pi}-\\delta_{pj})$ for $Z_{ij} = \\frac{V(i) - V(j)}{I}$,\n",
    "\n",
    "$$Z_{ij} = \\sum_{p} \\big[ G(i,p)- G(j,p) \\big](\\delta_{pi}-\\delta_{pj}) = G(i,i) -G(i,j)-G(j,i)+G(j,j). $$"
   ]
  },
  {
   "cell_type": "markdown",
   "metadata": {},
   "source": [
    "#### Easier route:\n",
    "\n",
    "It turned out that the impedance $Z_{ij}$ is a linear combination of the matrix elements $G(i,j)$ of $G = J^{-1}$ in the local basis!"
   ]
  },
  {
   "cell_type": "markdown",
   "metadata": {},
   "source": [
    "Let us consider an SSH model in electric circuits! The Laplacian for the infinite system is,\n",
    "$$J_{SSH} = i \\omega \\Big( C_1 + C_2 - \\frac{1}{\\omega^2 L}\\Big) \\mathbf{1} - i\\omega \\big[ (C_1 +C_2 \\cos k_x) \\sigma_x + C_2 \\sin k_x \\sigma_y \\big] $$\n",
    "\n",
    "Yet, it is much easier to work with finite system of size M when it comes to zero-modes. From the previous week, the SSH model circuit Laplacian can written as,\n",
    "$$J_{ssH} = i w C_1\\begin{pmatrix}\n",
    "(1+t)(1-\\frac{\\tilde{w}^2}{w^2}) & -t & 0  &0& ... &0&0\\\\\n",
    "-t&(1+t)(1-\\frac{\\tilde{w}^2}{w^2})& -1&0&...&0&0\\\\\n",
    "0&-1&(1+t)(1-\\frac{\\tilde{w}^2}{w^2})&-t &...&0&0\\\\\n",
    ".&.&.&.&...&.&.\\\\\n",
    "0&0&0&0&...&(1+t)(1-\\frac{\\tilde{w}^2}{w^2})&-1\\\\\n",
    "0&0&0&0&...&-1&(1+t)(1-\\frac{\\tilde{w}^2}{w^2})\n",
    "\\end{pmatrix}$$\n",
    "\n",
    "with $\\tilde{w} = 2 \\pi/\\sqrt{L(C_1+C_2)}$."
   ]
  },
  {
   "cell_type": "code",
   "execution_count": 62,
   "metadata": {},
   "outputs": [],
   "source": [
    "import scipy as sc\n",
    "import numpy as np\n",
    "import matplotlib.pyplot as plt\n",
    "\n",
    "%matplotlib inline\n",
    "from mpl_toolkits.mplot3d import Axes3D\n",
    "from matplotlib.pylab import * # for plotting commands\n",
    "import matplotlib.pyplot as plt\n",
    "from IPython.display import Image\n",
    "from mpl_toolkits.mplot3d import axes3d"
   ]
  },
  {
   "cell_type": "code",
   "execution_count": 138,
   "metadata": {},
   "outputs": [],
   "source": [
    "C2 = 1.  # in units of Farads\n",
    "C1 = 0.2 # in units of Farads\n",
    "L = 1.   # in units of Henry\n",
    "\n",
    "NumSites = 14\n",
    "\n",
    "t = C2/C1                      # kapasitansların oranı\n",
    "omega_0 = (L*(C1+C2))**(-0.5)  # rezonans frekansı\n",
    "omega = omega_0                # rezonansta seçilmiş olan frekans"
   ]
  },
  {
   "cell_type": "code",
   "execution_count": 139,
   "metadata": {},
   "outputs": [],
   "source": [
    "Energy = np.zeros((2*NumSites,1),dtype='float');  \n",
    "Psi = np.zeros((2*NumSites,2*NumSites),dtype='complex');  \n",
    "\n",
    "E0 = (1+t)*(1-(omega_0/omega)**2)"
   ]
  },
  {
   "cell_type": "code",
   "execution_count": 140,
   "metadata": {},
   "outputs": [],
   "source": [
    "H1 = E0*diag(ones(NumSites*2,),0) -t*(diag(mod(arange(0,2*NumSites-1)+1,2),1)+diag(mod(arange(0,2*NumSites-1)+1,2),-1))\\\n",
    "-(diag(mod(arange(0,2*NumSites-1),2),1)+diag(mod(arange(0,2*NumSites-1),2),-1))\n",
    "\n",
    "\n"
   ]
  },
  {
   "cell_type": "code",
   "execution_count": 141,
   "metadata": {},
   "outputs": [],
   "source": [
    "t2 = C1/C2\n",
    "H2 = E0*diag(2*mod(arange(0,2*NumSites)+1.,2)-1)\\\n",
    "-t2*(diag(mod(arange(0,2*NumSites-1)+1,2),1)+diag(mod(arange(0,2*NumSites-1)+1,2),-1))\\\n",
    "-(diag(mod(arange(0,2*NumSites-1),2),1)+diag(mod(arange(0,2*NumSites-1),2),-1))"
   ]
  },
  {
   "cell_type": "code",
   "execution_count": 142,
   "metadata": {},
   "outputs": [
    {
     "name": "stdout",
     "output_type": "stream",
     "text": [
      "[-5.98135244 -5.38302069 -4.38470179  4.10343934  4.98214518  5.83524421]\n",
      "[-1.19591126 -1.06494772 -0.85435888  0.80646709  0.97806404  1.16388036]\n"
     ]
    }
   ],
   "source": [
    "[En,Psin] = eig(H1)\n",
    "Eorder   = argsort(En.real)\n",
    "E1 = En[Eorder]\n",
    "Psi = Psin[:,Eorder]\n",
    "Energy = E1\n",
    "Psiabs2 = abs(Psi)**2\n",
    "\n",
    "[En2,Psin2] = eig(H2)\n",
    "Eorder2   = argsort(En2.real)\n",
    "E2 = En2[Eorder2]\n",
    "Psi2 = Psin2[:,Eorder2]\n",
    "Energy2 = E2\n",
    "Psi2abs2 = abs(Psi2)**2\n",
    "\n",
    "print( Energy[arange(0,Energy.shape[0],5)])\n",
    "print(Energy2[arange(0,Energy.shape[0],5)])"
   ]
  },
  {
   "cell_type": "markdown",
   "metadata": {},
   "source": [
    "As an input, we connect a current sourse at two edges of the circuit, therefore it has the following form:"
   ]
  },
  {
   "cell_type": "code",
   "execution_count": 143,
   "metadata": {},
   "outputs": [
    {
     "name": "stdout",
     "output_type": "stream",
     "text": [
      "[ 1.  0.  0.  0.  0.  0.  0.  0.  0.  0.  0.  0.  0.  0.  0.  0.  0.  0.\n",
      "  0.  0.  0.  0.  0.  0.  0.  0.  0. -1.]\n"
     ]
    }
   ],
   "source": [
    "I0 = 1. # in units of amperes\n",
    "I  = I0*np.concatenate(([1.],np.zeros((2*NumSites-2),dtype='double'),[-1.]),axis=0)\n",
    "\n",
    "print(I)"
   ]
  },
  {
   "cell_type": "markdown",
   "metadata": {},
   "source": [
    "One can then calculate the projection of the current vector on to the eigenkets of H-matrix, $I_n = \\langle \\phi_n \\mid I \\rangle$"
   ]
  },
  {
   "cell_type": "code",
   "execution_count": 144,
   "metadata": {},
   "outputs": [],
   "source": [
    "I_n = np.dot(Psi,I)\n",
    "I_n2 = np.dot(Psi2,I)"
   ]
  },
  {
   "cell_type": "markdown",
   "metadata": {},
   "source": [
    "The unknown components of the voltage vector in our basis choice above are $V_n = I_n/\\lambda_n$,"
   ]
  },
  {
   "cell_type": "code",
   "execution_count": 145,
   "metadata": {},
   "outputs": [],
   "source": [
    "V_n  = I_n/Energy\n",
    "V_n2 = I_n2/Energy2"
   ]
  },
  {
   "cell_type": "markdown",
   "metadata": {},
   "source": [
    "One can then calculate the voltage vector in the position basis as follows, $\\mid V \\rangle = \\sum_{n=1}^{2 N} V_n \\mid \\phi_n \\rangle$"
   ]
  },
  {
   "cell_type": "code",
   "execution_count": 146,
   "metadata": {},
   "outputs": [],
   "source": [
    "V_vector = np.zeros((2*NumSites,),dtype = 'double')\n",
    "V_vector2 = np.zeros((2*NumSites,),dtype = 'double')\n",
    "\n",
    "for i in arange(6): \n",
    "    V_vector  = V_vector  + V_n[i] * Psi[:,i] \n",
    "    V_vector2 = V_vector2 + V_n2[i]*Psi2[:,i] "
   ]
  },
  {
   "cell_type": "code",
   "execution_count": 147,
   "metadata": {},
   "outputs": [
    {
     "data": {
      "text/plain": [
       "Text(0.5, 1.0, '$V_{topological}$')"
      ]
     },
     "execution_count": 147,
     "metadata": {},
     "output_type": "execute_result"
    },
    {
     "data": {
      "image/png": "[encoded data removed]",
      "text/plain": [
       "<Figure size 1000x600 with 2 Axes>"
      ]
     },
     "metadata": {},
     "output_type": "display_data"
    }
   ],
   "source": [
    "f, ax = plt.subplots(1,2, sharey=True,figsize=(10,6))\n",
    "ax[0].plot(arange(2*NumSites),abs(V_vector**2 )/abs(V_vector**2 ).max())\n",
    "ax[1].plot(arange(2*NumSites),abs(V_vector2**2)/abs(V_vector2**2).max())\n",
    "ax[0].set_title('$V_{non topological}$')\n",
    "ax[1].set_title('$V_{topological}$')"
   ]
  },
  {
   "cell_type": "markdown",
   "metadata": {},
   "source": [
    "Let us use an interactive plot for a continuous evolution of the wave function as a selective function of $t = C_1/C_2$"
   ]
  },
  {
   "cell_type": "markdown",
   "metadata": {},
   "source": [
    "#### Impedance calculations"
   ]
  },
  {
   "cell_type": "code",
   "execution_count": 148,
   "metadata": {},
   "outputs": [],
   "source": [
    "G1 = np.linalg.inv(H1)\n",
    "G2 = np.linalg.inv(H2)"
   ]
  },
  {
   "cell_type": "markdown",
   "metadata": {},
   "source": [
    "We can now calculate the impedance between two ends of the SSH circuit using\n",
    "\n",
    "$$Z_{ij} = \\sum_{p} \\big[ G(i,p)- G(j,p) \\big](\\delta_{pi}-\\delta_{pj}) = G(i,i) -G(i,j)-G(j,i)+G(j,j). $$"
   ]
  },
  {
   "cell_type": "code",
   "execution_count": 149,
   "metadata": {},
   "outputs": [],
   "source": [
    "Z1_1N = G1[0,0] + G1[-1,-1] - G1[0,-1]- G1[-1,0]\n",
    "Z2_1N = G2[0,0] + G2[-1,-1] - G2[0,-1]- G2[-1,0]"
   ]
  },
  {
   "cell_type": "code",
   "execution_count": 150,
   "metadata": {},
   "outputs": [
    {
     "name": "stdout",
     "output_type": "stream",
     "text": [
      "Z_{trivial}: 3.2768000000000026e-10\n",
      "Z_{topo}: 12207031249.999996\n"
     ]
    }
   ],
   "source": [
    "print('Z_{trivial}: '+str(abs(Z1_1N)))\n",
    "print('Z_{topo}: '+str(abs(Z2_1N)))"
   ]
  },
  {
   "cell_type": "markdown",
   "metadata": {},
   "source": [
    "We can also calculate the impedance theoretically by inverting $J_{SSH}$.\n",
    "\n",
    "We need $G$ matrix, $G= J^{-1}$. $J$ can indeed be inverted directly,"
   ]
  },
  {
   "cell_type": "markdown",
   "metadata": {},
   "source": [
    "$$G = \\frac{1}{i \\omega (-t)^m C_2} \\begin{pmatrix}\n",
    "1&(-t)^{m-1}& -t & (-t)^{m-2}  &(-t)^{2}& ... \\\\\n",
    "(-t)^{m-1}&0& 0&0&0&...\\\\\n",
    "-t&0& (-t)^{2}&(-t)^{m-1}&(-t)^{3}&...\\\\\n",
    "(-t)^{2}&0& (-t)^{2}&0&0&...\\\\\n",
    "(-t)^{m-2}&0&(-t)^{m-1}&0& (-t)^{4}&...\\\\\n",
    ".&.&.&.&...\\\\\n",
    ".&.&.&.&...\\\\\n",
    ".&.&.&.&...\\\\\n",
    "\\end{pmatrix}$$"
   ]
  },
  {
   "cell_type": "markdown",
   "metadata": {},
   "source": [
    "Let us generate the matrix, yet we need two alternating vectors to embedded into one another."
   ]
  },
  {
   "cell_type": "code",
   "execution_count": 210,
   "metadata": {},
   "outputs": [],
   "source": [
    "def ImpedanceViaJ(t):\n",
    "    G = 0*diag(mod(arange(1,2*NumSites+1)+1,2)*(-t)**arange(2*NumSites))\n",
    "    for indOff in arange(fix((2*NumSites-1)/2)+1):\n",
    "        G = G + diag(np.array(mod(arange(2*NumSites-(2*indOff+1))+1,2)),int(2*indOff+1))*(-t)**(2*NumSites-indOff)\n",
    "        if indOff != (fix((2*NumSites-1)/2)):\n",
    "            G = G + diag(np.array(mod(arange(2*NumSites-(2*indOff+2))+1,2)),int(2*indOff+2))*(-t)**(indOff)\n",
    "    return G + np.conj(G).T + diag(mod(arange(1,2*NumSites+1),2)*(-t)**arange(2*NumSites))"
   ]
  },
  {
   "cell_type": "code",
   "execution_count": 211,
   "metadata": {},
   "outputs": [
    {
     "data": {
      "text/plain": [
       "<matplotlib.image.AxesImage at 0x18ef1d29280>"
      ]
     },
     "execution_count": 211,
     "metadata": {},
     "output_type": "execute_result"
    },
    {
     "data": {
      "image/png": "[encoded data removed]",
      "text/plain": [
       "<Figure size 640x480 with 1 Axes>"
      ]
     },
     "metadata": {},
     "output_type": "display_data"
    }
   ],
   "source": [
    "Gtopo =  ImpedanceViaJ(C1/C2)\n",
    "Gtrivial = ImpedanceViaJ(C2/C1)\n",
    "spy(Gtopo)"
   ]
  },
  {
   "cell_type": "code",
   "execution_count": 214,
   "metadata": {},
   "outputs": [],
   "source": [
    "i1 = 0\n",
    "i2 = 2*NumSites-1\n",
    "Ztopo    = Gtopo[i1,i1]+Gtopo[i2,i2]-Gtopo[i1,i2]-Gtopo[i2,i1]\n",
    "Ztrivial = Gtrivial[i1,i1]+Gtrivial[i2,i2]-Gtrivial[i1,i2]-Gtrivial[i2,i1]"
   ]
  },
  {
   "cell_type": "code",
   "execution_count": 215,
   "metadata": {},
   "outputs": [
    {
     "name": "stdout",
     "output_type": "stream",
     "text": [
      "Z_{trivial}: 1.000000000065536\n",
      "Z_{topo}: 61035156251.0\n"
     ]
    }
   ],
   "source": [
    "print('Z_{trivial}: '+str(abs(Ztopo)))\n",
    "print('Z_{topo}: '+str(abs(Ztrivial)))"
   ]
  },
  {
   "cell_type": "markdown",
   "metadata": {},
   "source": [
    "Compared to the numerical case, beware that the impedance across the topological circuit is 10 order of magnitute larger. There is a plausable reason for this, we regularize the numerical (former) calculation in case of a division by $0$. "
   ]
  }
 ],
 "metadata": {
  "kernelspec": {
   "display_name": "Python 3 (ipykernel)",
   "language": "python",
   "name": "python3"
  },
  "language_info": {
   "codemirror_mode": {
    "name": "ipython",
    "version": 3
   },
   "file_extension": ".py",
   "mimetype": "text/x-python",
   "name": "python",
   "nbconvert_exporter": "python",
   "pygments_lexer": "ipython3",
   "version": "3.8.13"
  }
 },
 "nbformat": 4,
 "nbformat_minor": 4
}
