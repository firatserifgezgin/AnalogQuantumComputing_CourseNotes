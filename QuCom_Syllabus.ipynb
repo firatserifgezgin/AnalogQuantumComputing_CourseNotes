{
 "cells": [
  {
   "cell_type": "markdown",
   "id": "bd2e5bee",
   "metadata": {},
   "source": [
    "\n",
    "### A Crash Course on Quantum Simulation\n",
    "#### by Dr. Firat Yilmaz\n",
    "#### Hosted by Prof. Dr. Tuğrul Hakioğlu\n",
    "This course aims for a direct exposure of ideas in the quantum theory of matter to electric circuits. The main goal is to de-mistify the topics of quantum physics and extract the useful ideas for practical purposes. \n",
    "In this respect, this course stands in the vicinity of the advanced topics of physics, computer and the electronics engineering."
   ]
  },
  {
   "cell_type": "markdown",
   "id": "9ac4db58",
   "metadata": {},
   "source": [
    "### Syllabus"
   ]
  },
  {
   "cell_type": "markdown",
   "id": "964deaf4",
   "metadata": {},
   "source": [
    "##### Week 1. \n",
    "\n",
    "- What are we doing?\n",
    "- Introduction to Classical and Quantum Computation"
   ]
  },
  {
   "cell_type": "markdown",
   "id": "9a531192",
   "metadata": {},
   "source": [
    "##### Week 2.-3. \n",
    "\n",
    "Basics of Circuit Theory\n",
    "- Kirchhoff's and Ohm's Laws: Matrix formalism\n",
    "- Lagrange formulation of electric circuits\n",
    "- Example: telegraph equation,"
   ]
  },
  {
   "cell_type": "markdown",
   "id": "5d47d4ab",
   "metadata": {},
   "source": [
    "Basics of Quantum Mechanics\n",
    "- Basic understanding of Topology in Physics: Bulk-boundary correspondance\n",
    "- SSH-model: Polyacetylene, fractionalization and topology\n",
    "- Graphene: Band diagram and topology"
   ]
  },
  {
   "cell_type": "markdown",
   "id": "de2dee87",
   "metadata": {},
   "source": [
    "Quantum Simulation \n",
    "- Connection between the electric circuits and the quantum mechanics\n",
    "- Ways of simulating Schrödinger equation"
   ]
  },
  {
   "cell_type": "markdown",
   "id": "5fa642ed",
   "metadata": {},
   "source": [
    "##### Week 4.\n",
    "- Impedance measurements and response functions\n",
    "\n",
    "Project:\n",
    "- Simulation of graphene\n",
    "- Simulation of SSH circuit"
   ]
  },
  {
   "cell_type": "markdown",
   "id": "63db43b2",
   "metadata": {},
   "source": [
    "##### Week 5.-6.\n",
    "Basics of quantum computation\n",
    "- Overview: Main paradigms, scalibity\n",
    "- A motivating example: Shor's integer factoring algorithm\n"
   ]
  },
  {
   "cell_type": "markdown",
   "id": "3a494746",
   "metadata": {},
   "source": [
    "Quantum computation with random walks on graphs \n",
    "- Scattering theory on graphs and the universal quantum computation: a non-scalable version"
   ]
  },
  {
   "cell_type": "markdown",
   "id": "0f62cc8d",
   "metadata": {},
   "source": [
    "##### Week 7\n",
    "A very basic introduction to the topological quantum computation\n",
    "- Anyons, braiding and fusion: F and R matrices\n",
    "- Braiding and information processing"
   ]
  },
  {
   "cell_type": "markdown",
   "id": "51e308bd",
   "metadata": {},
   "source": [
    "##### Week 8.-9.-10.\n",
    "Topological quantum computation\n",
    "- Toric code\n",
    "- Exotic particles and the exchange statistics\n",
    "- Introduction to the Kitaev model as a Toric code\n",
    "\n",
    "Topological quantum computation with electric circuits\n",
    "- QuCom with Majorana-like domain walls: a scalable version"
   ]
  },
  {
   "cell_type": "markdown",
   "id": "c4a8dadf",
   "metadata": {},
   "source": [
    "##### Week 11.\n",
    "Discussion of possible projects and future prospects."
   ]
  },
  {
   "cell_type": "markdown",
   "id": "468b0efd",
   "metadata": {},
   "source": [
    "#### References:\n",
    "\n",
    "Books:\n",
    "- Quantum Computation and Quantum Information, Michael A. Nielsen & Isaac L. Chuang\n",
    "- Introduction to Topological Quantum Computation, Jiannis K. Pachos (arXiv:1705.04103)\n",
    "\n",
    "Reviews:\n",
    "- Lee, Ching Hua, et al. \"Topolectrical circuits.\" Communications Physics 1.1 (2018): 1-9.\n",
    "\n",
    "- Erhai, Z., Topological circuits of inductors and capacitors, arXiv:1810.10318 (2018)\n",
    "\n",
    "Articles:\n",
    "- Helbig, Tobias, et al. \"Band structure engineering and reconstruction in electric circuit networks.\" Physical Review B 99.16 (2019): 161114.\n",
    "\n",
    "- Imhof, Stefan, et al. \"Topolectrical-circuit realization of topological corner modes.\" Nature Physics 14.9 (2018): 925-929.\n",
    "\n",
    "- Stegmaier, Alexander, et al. \"Topological Defect Engineering and PT Symmetry in Non-Hermitian Electrical Circuits.\" Physical Review Letters 126.21 (2021): 215302.\n",
    "\n",
    "- Ezawa, M, Non-Abelian braiding of Majorana-like edge states and topological quantum computations in electric circuits, Phys. Rev. B 102, 075424 (2020), arXiv:1907.06911v6\n",
    "\n",
    "- Shor, P.W., \"Algorithms for quantum computation: discrete logarithms and factoring\". Proceedings 35th Annual Symposium on Foundations of Computer Science. IEEE Comput. Soc. Press: 124–134. (1994)\n"
   ]
  },
  {
   "cell_type": "code",
   "execution_count": null,
   "id": "725efac3",
   "metadata": {},
   "outputs": [],
   "source": []
  }
 ],
 "metadata": {
  "kernelspec": {
   "display_name": "Python 3 (ipykernel)",
   "language": "python",
   "name": "python3"
  },
  "language_info": {
   "codemirror_mode": {
    "name": "ipython",
    "version": 3
   },
   "file_extension": ".py",
   "mimetype": "text/x-python",
   "name": "python",
   "nbconvert_exporter": "python",
   "pygments_lexer": "ipython3",
   "version": "3.8.13"
  }
 },
 "nbformat": 4,
 "nbformat_minor": 5
}
